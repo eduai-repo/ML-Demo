{
 "cells": [
  {
   "cell_type": "markdown",
   "metadata": {},
   "source": [
    "# Linear Regression and Their Types\n",
    "\n",
    "- **Simple Linear Regression:** **Only one** input variable x\n",
    "- **Multiple Linear Regression:** **More than one** input variable x\n",
    "- **Simple Polynomial Regression:** **A curve** that fits into the data points with **one input** variable x\n",
    "- **Multiple Polynomial Regression:** **A curve** that fits into the data points with **multiple input** variable x"
   ]
  },
  {
   "cell_type": "markdown",
   "metadata": {},
   "source": [
    "# 1. Simple Linear Regression\n",
    "We have already seen in last video where we had **one input** variable as size of the house to predict cost of the house."
   ]
  },
  {
   "cell_type": "markdown",
   "metadata": {},
   "source": [
    "# 2. Multiple linear regression\n",
    "\n",
    "Do you really think that price of the house is only dependent on size of the house?\n",
    "Using your personal experience, you might have some intuitions that price of the House is not only dependent on the size but also on other factors like 'number of rooms'or 'age of the house' or 'status of the population living in that area'. \n",
    "So, lets assume that you asked for more data."
   ]
  },
  {
   "cell_type": "markdown",
   "metadata": {},
   "source": [
    "### Data given to predict the price of the house now with size of the house and number of rooms\n",
    "\n",
    "<img src=\"trainhousedata1.jpg\" width=\"70%\">"
   ]
  },
  {
   "cell_type": "code",
   "execution_count": 42,
   "metadata": {},
   "outputs": [],
   "source": [
    "import warnings\n",
    "warnings.filterwarnings('ignore')"
   ]
  },
  {
   "cell_type": "code",
   "execution_count": 43,
   "metadata": {},
   "outputs": [],
   "source": [
    "X = [[300,1], [500,1], [600,2], [800,3], [1200,2],[1500,3],[1750,3],[2000,4],[2200,3]]\n",
    "y = [[80], [130], [180], [260], [390],[380],[450],[380],[420]]"
   ]
  },
  {
   "cell_type": "markdown",
   "metadata": {},
   "source": [
    "### We are using the same model designed earlier, only difference is your X is having two columns now \n",
    " X = X1 and X2 column"
   ]
  },
  {
   "cell_type": "code",
   "execution_count": 44,
   "metadata": {},
   "outputs": [],
   "source": [
    "from sklearn.linear_model import LinearRegression\n",
    "model = LinearRegression()"
   ]
  },
  {
   "cell_type": "code",
   "execution_count": 45,
   "metadata": {},
   "outputs": [
    {
     "data": {
      "text/plain": [
       "LinearRegression(copy_X=True, fit_intercept=True, n_jobs=1, normalize=False)"
      ]
     },
     "execution_count": 45,
     "metadata": {},
     "output_type": "execute_result"
    }
   ],
   "source": [
    "model.fit(X, y)"
   ]
  },
  {
   "cell_type": "code",
   "execution_count": 46,
   "metadata": {},
   "outputs": [],
   "source": [
    "def HousePricePredict(size,rooms):\n",
    "    print ('A %d Sq.Fts. and %d rooms house should cost around: $%i000'%(size,rooms, model.predict([[size, rooms]])))"
   ]
  },
  {
   "cell_type": "code",
   "execution_count": 47,
   "metadata": {},
   "outputs": [
    {
     "data": {
      "application/vnd.jupyter.widget-view+json": {
       "model_id": "45e69b2ded20439a9e3ee5900b782ee3",
       "version_major": 2,
       "version_minor": 0
      },
      "text/html": [
       "<p>Failed to display Jupyter Widget of type <code>interactive</code>.</p>\n",
       "<p>\n",
       "  If you're reading this message in the Jupyter Notebook or JupyterLab Notebook, it may mean\n",
       "  that the widgets JavaScript is still loading. If this message persists, it\n",
       "  likely means that the widgets JavaScript library is either not installed or\n",
       "  not enabled. See the <a href=\"https://ipywidgets.readthedocs.io/en/stable/user_install.html\">Jupyter\n",
       "  Widgets Documentation</a> for setup instructions.\n",
       "</p>\n",
       "<p>\n",
       "  If you're reading this message in another frontend (for example, a static\n",
       "  rendering on GitHub or <a href=\"https://nbviewer.jupyter.org/\">NBViewer</a>),\n",
       "  it may mean that your frontend doesn't currently support widgets.\n",
       "</p>\n"
      ],
      "text/plain": [
       "interactive(children=(IntSlider(value=1500, description='size', max=3000), IntSlider(value=2, description='rooms', max=5), Output()), _dom_classes=('widget-interact',))"
      ]
     },
     "metadata": {},
     "output_type": "display_data"
    }
   ],
   "source": [
    "i = interact( HousePricePredict, size=(0,3000),rooms=(0,5))"
   ]
  },
  {
   "cell_type": "code",
   "execution_count": 48,
   "metadata": {},
   "outputs": [
    {
     "name": "stdout",
     "output_type": "stream",
     "text": [
      "Residual sum of squares: 2759.94\n"
     ]
    }
   ],
   "source": [
    "import numpy as np\n",
    "print ('Residual sum of squares: %.2f' % np.mean((model.predict(X)- y) ** 2))"
   ]
  },
  {
   "cell_type": "markdown",
   "metadata": {},
   "source": [
    "### Evaluating the model on Test Dataset \n",
    "\n",
    "Suppose that you applied this model to a test dataset as shown below:\n",
    "<img src=\"testhousetable1.jpg\" width=\"70%\">\n"
   ]
  },
  {
   "cell_type": "code",
   "execution_count": 49,
   "metadata": {},
   "outputs": [],
   "source": [
    "X_test = [[250,1], [400,2], [500,1], [750,2], [1200,3],[1400,2],[1600,4],[2100,4],[2400,3]]\n",
    "y_test = [[100], [110], [200], [220], [200],[400],[410],[390],[450]]\n",
    "\n"
   ]
  },
  {
   "cell_type": "code",
   "execution_count": 50,
   "metadata": {},
   "outputs": [
    {
     "name": "stdout",
     "output_type": "stream",
     "text": [
      "Residual sum of squares: 3325.87\n"
     ]
    }
   ],
   "source": [
    "print ('Residual sum of squares: %.2f' % np.mean((model.predict(X_test)- y_test) ** 2))"
   ]
  },
  {
   "cell_type": "code",
   "execution_count": 51,
   "metadata": {},
   "outputs": [
    {
     "data": {
      "application/vnd.jupyter.widget-view+json": {
       "model_id": "681858f5685c446985a99fc514bc4489",
       "version_major": 2,
       "version_minor": 0
      },
      "text/html": [
       "<p>Failed to display Jupyter Widget of type <code>interactive</code>.</p>\n",
       "<p>\n",
       "  If you're reading this message in the Jupyter Notebook or JupyterLab Notebook, it may mean\n",
       "  that the widgets JavaScript is still loading. If this message persists, it\n",
       "  likely means that the widgets JavaScript library is either not installed or\n",
       "  not enabled. See the <a href=\"https://ipywidgets.readthedocs.io/en/stable/user_install.html\">Jupyter\n",
       "  Widgets Documentation</a> for setup instructions.\n",
       "</p>\n",
       "<p>\n",
       "  If you're reading this message in another frontend (for example, a static\n",
       "  rendering on GitHub or <a href=\"https://nbviewer.jupyter.org/\">NBViewer</a>),\n",
       "  it may mean that your frontend doesn't currently support widgets.\n",
       "</p>\n"
      ],
      "text/plain": [
       "interactive(children=(IntSlider(value=1500, description='size', max=3000), IntSlider(value=2, description='rooms', max=5), Output()), _dom_classes=('widget-interact',))"
      ]
     },
     "metadata": {},
     "output_type": "display_data"
    }
   ],
   "source": [
    "i = interact( HousePricePredict, size=(0,3000),rooms=(0,5))"
   ]
  },
  {
   "cell_type": "markdown",
   "metadata": {},
   "source": [
    "# 3. Polynomial regression with One Variable "
   ]
  },
  {
   "cell_type": "code",
   "execution_count": 52,
   "metadata": {},
   "outputs": [],
   "source": [
    "import numpy as np\n",
    "from sklearn.preprocessing import PolynomialFeatures"
   ]
  },
  {
   "cell_type": "code",
   "execution_count": 77,
   "metadata": {},
   "outputs": [],
   "source": [
    "def PolynomialRegression(degree):\n",
    "    \n",
    "    X = [[300], [500], [600], [800], [1200],[1500],[1750],[2000],[2200]]\n",
    "    y = [[80], [130], [180], [260], [390],[380],[450],[380],[420]]\n",
    "    \n",
    "    # Simple linear regression first\n",
    "    regressor = LinearRegression()\n",
    "    regressor.fit(X, y)\n",
    "    xx = np.linspace(0, 2500, 3000)\n",
    "    yy = regressor.predict(xx.reshape(xx.shape[0], 1))\n",
    "    \n",
    "    quadratic_featurizer = PolynomialFeatures(degree)\n",
    "    X_quadratic = quadratic_featurizer.fit_transform(X)\n",
    "    \n",
    "    regressor_quadratic = LinearRegression()\n",
    "    regressor_quadratic.fit(X_quadratic, y)\n",
    "    xx_quadratic = quadratic_featurizer.transform(xx.reshape(xx.shape[0], 1))\n",
    "    \n",
    "    print ('Residual sum of squares: %.2f' % np.mean(( regressor_quadratic.predict(X_quadratic)- y) ** 2))\n",
    "    \n",
    "    plt.plot(xx, yy)\n",
    "    plt.plot(xx, regressor_quadratic.predict(xx_quadratic), c='r',linestyle='--')\n",
    "    plt.title('Pizza price regressed on diameter')\n",
    "    plt.xlabel('Diameter in inches')\n",
    "    plt.ylabel('Price in dollars')\n",
    "    plt.axis([0, 2500, 0, 500])\n",
    "    plt.grid(True)\n",
    "    plt.scatter(X,y)\n",
    "    plt.show()\n",
    "\n",
    "    \n",
    "    print(X_quadratic)"
   ]
  },
  {
   "cell_type": "code",
   "execution_count": 78,
   "metadata": {},
   "outputs": [
    {
     "data": {
      "application/vnd.jupyter.widget-view+json": {
       "model_id": "b744fa720faf4884851be9a21cd8afa9",
       "version_major": 2,
       "version_minor": 0
      },
      "text/html": [
       "<p>Failed to display Jupyter Widget of type <code>interactive</code>.</p>\n",
       "<p>\n",
       "  If you're reading this message in the Jupyter Notebook or JupyterLab Notebook, it may mean\n",
       "  that the widgets JavaScript is still loading. If this message persists, it\n",
       "  likely means that the widgets JavaScript library is either not installed or\n",
       "  not enabled. See the <a href=\"https://ipywidgets.readthedocs.io/en/stable/user_install.html\">Jupyter\n",
       "  Widgets Documentation</a> for setup instructions.\n",
       "</p>\n",
       "<p>\n",
       "  If you're reading this message in another frontend (for example, a static\n",
       "  rendering on GitHub or <a href=\"https://nbviewer.jupyter.org/\">NBViewer</a>),\n",
       "  it may mean that your frontend doesn't currently support widgets.\n",
       "</p>\n"
      ],
      "text/plain": [
       "interactive(children=(IntSlider(value=5, description='degree', max=10), Output()), _dom_classes=('widget-interact',))"
      ]
     },
     "metadata": {},
     "output_type": "display_data"
    }
   ],
   "source": [
    "i = interact(PolynomialRegression, degree=(0,10))"
   ]
  },
  {
   "cell_type": "code",
   "execution_count": 81,
   "metadata": {},
   "outputs": [],
   "source": [
    "def PolyTestError(degree):\n",
    "    \n",
    "    X = [[300], [500], [600], [800], [1200],[1500],[1750],[2000],[2200]]\n",
    "    y = [[80], [130], [180], [260], [390],[380],[450],[380],[420]]\n",
    "    \n",
    "    quadratic_featurizer = PolynomialFeatures(degree)\n",
    "    X_quadratic = quadratic_featurizer.fit_transform(X)\n",
    "    \n",
    "    regressor_quadratic = LinearRegression()\n",
    "    regressor_quadratic.fit(X_quadratic, y)\n",
    "    \n",
    "    \n",
    "    X_test = [[250], [400], [500], [750], [1200],[1400],[1600],[2100],[2400]]\n",
    "    y_test = [[100], [110], [200], [220], [200],[400],[410],[390],[450]]\n",
    "    quadratic_features = PolynomialFeatures(degree)\n",
    "    X_quadratic_test=quadratic_features.fit_transform(X_test)\n",
    "    print ('Residual sum of squares: %.2f' % np.mean((regressor_quadratic.predict(X_quadratic_test)- y_test) ** 2))"
   ]
  },
  {
   "cell_type": "code",
   "execution_count": 82,
   "metadata": {},
   "outputs": [
    {
     "data": {
      "application/vnd.jupyter.widget-view+json": {
       "model_id": "44565bf289854fe4b79967384ee13e5e",
       "version_major": 2,
       "version_minor": 0
      },
      "text/html": [
       "<p>Failed to display Jupyter Widget of type <code>interactive</code>.</p>\n",
       "<p>\n",
       "  If you're reading this message in the Jupyter Notebook or JupyterLab Notebook, it may mean\n",
       "  that the widgets JavaScript is still loading. If this message persists, it\n",
       "  likely means that the widgets JavaScript library is either not installed or\n",
       "  not enabled. See the <a href=\"https://ipywidgets.readthedocs.io/en/stable/user_install.html\">Jupyter\n",
       "  Widgets Documentation</a> for setup instructions.\n",
       "</p>\n",
       "<p>\n",
       "  If you're reading this message in another frontend (for example, a static\n",
       "  rendering on GitHub or <a href=\"https://nbviewer.jupyter.org/\">NBViewer</a>),\n",
       "  it may mean that your frontend doesn't currently support widgets.\n",
       "</p>\n"
      ],
      "text/plain": [
       "interactive(children=(IntSlider(value=2, description='degree', max=5), Output()), _dom_classes=('widget-interact',))"
      ]
     },
     "metadata": {},
     "output_type": "display_data"
    }
   ],
   "source": [
    "i = interact(PolyTestError, degree=(0,5))"
   ]
  },
  {
   "cell_type": "markdown",
   "metadata": {},
   "source": [
    "# 4. Polynomial Regression with Multiple Variables \n"
   ]
  },
  {
   "cell_type": "code",
   "execution_count": 83,
   "metadata": {},
   "outputs": [],
   "source": [
    "X = [[300,1], [500,1], [600,2], [800,3], [1200,2],[1500,3],[1750,3],[2000,4],[2200,3]]\n",
    "y = [[80], [130], [180], [260], [390],[380],[450],[380],[420]]"
   ]
  },
  {
   "cell_type": "code",
   "execution_count": 84,
   "metadata": {},
   "outputs": [],
   "source": [
    "quadratic_features = PolynomialFeatures(2)\n",
    "X_quadratic=quadratic_features.fit_transform(X)"
   ]
  },
  {
   "cell_type": "code",
   "execution_count": 85,
   "metadata": {},
   "outputs": [
    {
     "data": {
      "text/plain": [
       "array([1.e+00, 3.e+02, 1.e+00, 9.e+04, 3.e+02, 1.e+00])"
      ]
     },
     "execution_count": 85,
     "metadata": {},
     "output_type": "execute_result"
    }
   ],
   "source": [
    "X_quadratic[0]"
   ]
  },
  {
   "cell_type": "code",
   "execution_count": 86,
   "metadata": {},
   "outputs": [
    {
     "data": {
      "text/plain": [
       "LinearRegression(copy_X=True, fit_intercept=True, n_jobs=1, normalize=False)"
      ]
     },
     "execution_count": 86,
     "metadata": {},
     "output_type": "execute_result"
    }
   ],
   "source": [
    "model=LinearRegression()\n",
    "model.fit(X_quadratic,y)"
   ]
  },
  {
   "cell_type": "code",
   "execution_count": null,
   "metadata": {},
   "outputs": [],
   "source": [
    "def MulPolynomialRegression(degree):\n",
    "    quadratic_features = PolynomialFeatures(2)\n",
    "    X_quadratic=quadratic_features.fit_transform(X)\n",
    "\n",
    "    model=LinearRegression()\n",
    "    model.fit(X_quadratic,y)\n",
    "    "
   ]
  },
  {
   "cell_type": "code",
   "execution_count": null,
   "metadata": {},
   "outputs": [],
   "source": [
    "i = interact(MulPolynomialRegression, degree=(0,5))"
   ]
  },
  {
   "cell_type": "code",
   "execution_count": 87,
   "metadata": {},
   "outputs": [
    {
     "name": "stdout",
     "output_type": "stream",
     "text": [
      "Residual sum of squares: 271.87\n"
     ]
    }
   ],
   "source": [
    "print ('Residual sum of squares: %.2f' % np.mean((model.predict(X_quadratic)- y) ** 2))"
   ]
  },
  {
   "cell_type": "markdown",
   "metadata": {},
   "source": [
    "# Train Error "
   ]
  },
  {
   "cell_type": "code",
   "execution_count": 89,
   "metadata": {},
   "outputs": [],
   "source": [
    "X_test = [[250,1], [400,2], [500,1], [750,2], [1200,3],[1400,2],[1600,4],[2100,4],[2400,3]]\n",
    "y_test = [[100], [110], [200], [220], [200],[400],[410],[390],[450]]\n"
   ]
  },
  {
   "cell_type": "code",
   "execution_count": 90,
   "metadata": {},
   "outputs": [],
   "source": [
    "quadratic_features = PolynomialFeatures(2)\n",
    "X_quadratic_test=quadratic_features.fit_transform(X_test)"
   ]
  },
  {
   "cell_type": "code",
   "execution_count": 91,
   "metadata": {},
   "outputs": [
    {
     "name": "stdout",
     "output_type": "stream",
     "text": [
      "Residual sum of squares: 3827.94\n"
     ]
    }
   ],
   "source": [
    "print ('Residual sum of squares: %.2f' % np.mean((model.predict(X_quadratic_test)- y_test) ** 2))"
   ]
  },
  {
   "cell_type": "code",
   "execution_count": null,
   "metadata": {},
   "outputs": [],
   "source": []
  }
 ],
 "metadata": {
  "kernelspec": {
   "display_name": "Python 3",
   "language": "python",
   "name": "python3"
  },
  "language_info": {
   "codemirror_mode": {
    "name": "ipython",
    "version": 3
   },
   "file_extension": ".py",
   "mimetype": "text/x-python",
   "name": "python",
   "nbconvert_exporter": "python",
   "pygments_lexer": "ipython3",
   "version": "3.6.4"
  }
 },
 "nbformat": 4,
 "nbformat_minor": 2
}
