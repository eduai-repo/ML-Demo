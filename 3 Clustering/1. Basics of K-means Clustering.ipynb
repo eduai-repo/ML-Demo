{
 "cells": [
  {
   "cell_type": "markdown",
   "metadata": {},
   "source": [
    "<img src=\"Images/aiwithai.png\" width=\"100%\">"
   ]
  },
  {
   "cell_type": "code",
   "execution_count": 1,
   "metadata": {},
   "outputs": [],
   "source": [
    "%matplotlib inline"
   ]
  },
  {
   "cell_type": "code",
   "execution_count": 2,
   "metadata": {},
   "outputs": [
    {
     "data": {
      "text/plain": [
       "array([[ 3.15492712,  1.55292739],\n",
       "       [ 0.08848433,  2.32299086],\n",
       "       [ 0.62835793,  4.4601363 ],\n",
       "       [ 0.08080352,  4.69068983],\n",
       "       [ 3.18190344, -0.18226785],\n",
       "       [ 2.20656076,  5.50616718],\n",
       "       [ 2.50904929,  5.7731461 ],\n",
       "       [ 2.69539905, -0.71929238],\n",
       "       [-2.71576327,  2.41106591],\n",
       "       [ 2.46452227,  6.1996765 ],\n",
       "       [ 4.21850347,  2.23419161],\n",
       "       [ 0.77701268,  1.85786644],\n",
       "       [-2.16434104,  2.52061045],\n",
       "       [ 0.4666179 ,  3.86571303],\n",
       "       [-0.65392827,  4.76656958],\n",
       "       [-2.47135027,  2.50783257],\n",
       "       [-1.42917905,  3.50083594],\n",
       "       [ 1.68608568,  0.65828448],\n",
       "       [-1.65978459,  2.62009138],\n",
       "       [ 2.0159847 , -0.27042984],\n",
       "       [ 0.30380963,  3.94423417],\n",
       "       [ 2.82705807,  1.72116781],\n",
       "       [ 1.28933778,  3.44969159],\n",
       "       [ 1.12031365,  5.75806083],\n",
       "       [-1.00583914,  2.34209429],\n",
       "       [ 2.57854418,  0.72611733],\n",
       "       [ 2.66934689,  1.81987033],\n",
       "       [ 1.44193252,  2.76754364],\n",
       "       [-3.55758848,  4.98237512],\n",
       "       [ 0.90779887,  0.45984362],\n",
       "       [-1.66285371,  4.05477362],\n",
       "       [-2.12422008,  2.67996053],\n",
       "       [-0.74057605,  2.45146316],\n",
       "       [-1.99049999,  3.39936374],\n",
       "       [-0.27652528,  5.08127768],\n",
       "       [ 1.31570453,  2.44067826],\n",
       "       [ 3.92282648,  1.80370832],\n",
       "       [ 1.41942144,  1.57409695],\n",
       "       [ 0.34194798,  3.94104616],\n",
       "       [ 1.33263648,  5.0103605 ],\n",
       "       [-1.12785767,  0.1452895 ],\n",
       "       [-1.83591698,  1.24187846],\n",
       "       [-0.29421492,  5.27318404],\n",
       "       [ 1.70127361, -0.47728763],\n",
       "       [ 2.22194102,  1.5326951 ],\n",
       "       [ 2.91209813,  0.24663807],\n",
       "       [-0.83536526,  3.6126314 ],\n",
       "       [ 3.2460247 ,  2.84942165],\n",
       "       [-0.86052093,  2.45716247],\n",
       "       [ 1.9263585 ,  4.15243012],\n",
       "       [ 1.62011397,  2.74692739],\n",
       "       [-0.09448254,  5.35823905],\n",
       "       [ 1.18454506,  5.28042636],\n",
       "       [ 1.64164854,  0.15020885],\n",
       "       [ 2.72756228,  1.3051255 ],\n",
       "       [-1.37039748,  3.1500633 ],\n",
       "       [ 0.46546494,  3.12315514],\n",
       "       [ 3.97820955,  2.37817845],\n",
       "       [-0.83708585,  4.21972849],\n",
       "       [ 1.70536064,  4.43277024],\n",
       "       [-3.10984241,  3.52826164],\n",
       "       [ 0.4290083 ,  3.30797558],\n",
       "       [-1.83779018,  3.01528243],\n",
       "       [-1.54392443,  3.297034  ],\n",
       "       [ 1.15369622,  3.90200639],\n",
       "       [ 0.73240494,  2.87562511],\n",
       "       [ 1.10318217,  4.70577669],\n",
       "       [ 1.19404184,  2.80772861],\n",
       "       [-1.57671974,  4.95740592],\n",
       "       [-0.73000011,  6.25456272],\n",
       "       [ 2.11567076,  3.06896151],\n",
       "       [ 0.829832  ,  1.74202664],\n",
       "       [ 3.00251949,  0.74265357],\n",
       "       [-0.19685333,  6.24740851],\n",
       "       [ 1.02102468,  1.57925818],\n",
       "       [ 0.66471755,  4.35995267],\n",
       "       [ 2.15504965,  4.12386249],\n",
       "       [-2.34026827,  1.45145793],\n",
       "       [-1.24056032,  3.5267261 ],\n",
       "       [ 0.94808785,  4.7321192 ],\n",
       "       [ 1.38093486,  0.92949422],\n",
       "       [ 1.25185786,  0.20811388],\n",
       "       [-0.07228289,  2.88376939],\n",
       "       [ 1.42013331,  4.63746165],\n",
       "       [ 2.3535057 ,  2.22404956],\n",
       "       [ 4.4384123 ,  1.84214315],\n",
       "       [ 2.97612635,  1.21639131],\n",
       "       [-2.06976549,  3.33393231],\n",
       "       [-2.57215738,  4.12902755],\n",
       "       [ 2.68049897, -0.704394  ],\n",
       "       [ 2.43169305, -0.20173713],\n",
       "       [ 1.0220286 ,  4.11660348],\n",
       "       [ 0.56400993,  1.33705536],\n",
       "       [ 0.57309313,  5.5262324 ],\n",
       "       [ 1.36069966,  0.74802912],\n",
       "       [ 2.85942078,  2.95602827],\n",
       "       [-2.48284901,  2.57190049],\n",
       "       [-2.68308645,  3.69908036],\n",
       "       [ 0.73936011,  0.43607906],\n",
       "       [ 1.98702592,  2.61100638],\n",
       "       [ 1.28535145,  1.43691285],\n",
       "       [ 3.00468833,  0.9852149 ],\n",
       "       [-2.83343086,  4.57601294],\n",
       "       [ 1.956815  ,  0.23418537],\n",
       "       [ 0.95088418,  0.94982874],\n",
       "       [ 1.1312175 ,  4.68194985],\n",
       "       [-1.92635304,  3.28793815],\n",
       "       [ 2.47034915,  4.09862906],\n",
       "       [ 0.87305123,  4.71438583],\n",
       "       [-0.18887976,  5.20461381],\n",
       "       [-1.10064528,  3.5947903 ],\n",
       "       [ 0.58894326,  4.00148458],\n",
       "       [ 1.59973502,  0.91514282],\n",
       "       [-1.00301299,  3.00630435],\n",
       "       [ 0.9867701 ,  6.08965782],\n",
       "       [-3.46318382,  3.10666086],\n",
       "       [ 1.0427873 ,  4.60625923],\n",
       "       [ 1.84070628,  3.56162231],\n",
       "       [-1.03316224,  2.80177832],\n",
       "       [-2.12321805,  2.86531497],\n",
       "       [ 0.10547293,  3.72493766],\n",
       "       [ 3.24329731,  1.21460627],\n",
       "       [ 0.06897171,  4.35573272],\n",
       "       [-0.63762777,  4.09104705],\n",
       "       [ 1.55723507,  2.82719571],\n",
       "       [ 1.78726415,  1.70012006],\n",
       "       [-1.55123014,  2.17985135],\n",
       "       [ 1.3105127 ,  0.07122512],\n",
       "       [-3.06770103,  2.98114426],\n",
       "       [-1.38495085,  2.59855384],\n",
       "       [-1.24697941,  2.81973187],\n",
       "       [-0.61672511,  3.23510048],\n",
       "       [ 0.76241061,  1.16471453],\n",
       "       [-1.64506806,  2.23770406],\n",
       "       [-1.63744467,  3.93805497],\n",
       "       [-0.03241947,  0.84789724],\n",
       "       [ 0.1631238 ,  2.57750473],\n",
       "       [-2.1793126 ,  2.52692889],\n",
       "       [ 1.1424453 ,  2.01467995],\n",
       "       [-2.15499157,  2.43685514],\n",
       "       [ 1.7373078 ,  4.42546234],\n",
       "       [ 1.37861172,  3.61897724],\n",
       "       [ 1.41164912, -1.32573949],\n",
       "       [ 2.63185834,  0.6893649 ],\n",
       "       [-0.37457245,  3.99750085],\n",
       "       [-2.95096492,  2.42456238],\n",
       "       [-2.21895386,  4.45425932],\n",
       "       [-2.25250139,  1.53451831],\n",
       "       [ 2.45127423, -0.19539785],\n",
       "       [ 1.05505217, -0.64710744]])"
      ]
     },
     "execution_count": 2,
     "metadata": {},
     "output_type": "execute_result"
    }
   ],
   "source": [
    "from sklearn.datasets import make_blobs\n",
    "X, y = make_blobs(n_samples=150, \n",
    "                  n_features=2, \n",
    "                  centers=3,  \n",
    "                  random_state=0)\n",
    "X"
   ]
  },
  {
   "cell_type": "code",
   "execution_count": 3,
   "metadata": {},
   "outputs": [
    {
     "data": {
      "image/png": "[encoded data removed]",
      "text/plain": [
       "<Figure size 432x288 with 1 Axes>"
      ]
     },
     "metadata": {
      "needs_background": "light"
     },
     "output_type": "display_data"
    }
   ],
   "source": [
    "import matplotlib.pyplot as plt\n",
    "\n",
    "plt.scatter(X[:, 0], X[:, 1], c='blue', marker='o', s=50)\n",
    "plt.grid()\n",
    "plt.tight_layout()\n",
    "plt.show()"
   ]
  },
  {
   "cell_type": "code",
   "execution_count": 4,
   "metadata": {},
   "outputs": [],
   "source": [
    "from sklearn.cluster import KMeans\n"
   ]
  },
  {
   "cell_type": "code",
   "execution_count": 12,
   "metadata": {},
   "outputs": [],
   "source": [
    "km = KMeans(n_clusters=3, \n",
    "            init='k-means++', \n",
    "            n_init=100, \n",
    "            max_iter=1000)\n",
    "y_km = km.fit_predict(X)"
   ]
  },
  {
   "cell_type": "code",
   "execution_count": 13,
   "metadata": {},
   "outputs": [
    {
     "data": {
      "text/plain": [
       "array([0, 1, 2, 2, 0, 2, 2, 0, 1, 2, 0, 0, 1, 2, 2, 1, 1, 0, 1, 0, 2, 0,\n",
       "       2, 2, 1, 0, 0, 2, 1, 0, 1, 1, 1, 1, 2, 0, 0, 0, 2, 2, 1, 1, 2, 0,\n",
       "       0, 0, 1, 0, 1, 2, 0, 2, 2, 0, 0, 1, 2, 0, 1, 2, 1, 2, 1, 1, 2, 2,\n",
       "       2, 2, 1, 2, 2, 0, 0, 2, 0, 2, 2, 1, 1, 2, 0, 0, 1, 2, 0, 0, 0, 1,\n",
       "       1, 0, 0, 2, 0, 2, 0, 0, 1, 1, 0, 0, 0, 0, 1, 0, 0, 2, 1, 2, 2, 2,\n",
       "       1, 2, 0, 1, 2, 1, 2, 2, 1, 1, 2, 0, 2, 1, 2, 0, 1, 0, 1, 1, 1, 1,\n",
       "       0, 1, 1, 0, 1, 1, 0, 1, 2, 2, 0, 0, 2, 1, 1, 1, 0, 0])"
      ]
     },
     "execution_count": 13,
     "metadata": {},
     "output_type": "execute_result"
    }
   ],
   "source": [
    "y_km"
   ]
  },
  {
   "cell_type": "code",
   "execution_count": 14,
   "metadata": {},
   "outputs": [
    {
     "data": {
      "image/png": "[encoded data removed]",
      "text/plain": [
       "<Figure size 432x288 with 1 Axes>"
      ]
     },
     "metadata": {
      "needs_background": "light"
     },
     "output_type": "display_data"
    }
   ],
   "source": [
    "plt.scatter(X[y_km == 0, 0],\n",
    "            X[y_km == 0, 1],\n",
    "            s=50,\n",
    "            c='green',\n",
    "            marker='s',\n",
    "            label='cluster 1')\n",
    "plt.scatter(X[y_km == 1, 0],\n",
    "            X[y_km == 1, 1],\n",
    "            s=50,\n",
    "            c='orange',\n",
    "            marker='o',\n",
    "            label='cluster 2')\n",
    "plt.scatter(X[y_km == 2, 0],\n",
    "            X[y_km == 2, 1],\n",
    "            s=50,\n",
    "            c='blue',\n",
    "            marker='v',\n",
    "            label='cluster 3')\n",
    "plt.scatter(km.cluster_centers_[:, 0],\n",
    "            km.cluster_centers_[:, 1],\n",
    "            s=250,\n",
    "            marker='*',\n",
    "            c='red',\n",
    "            label='centroids')\n",
    "plt.legend()\n",
    "plt.grid()\n",
    "plt.tight_layout()\n",
    "plt.show()\n"
   ]
  },
  {
   "cell_type": "code",
   "execution_count": 8,
   "metadata": {},
   "outputs": [
    {
     "name": "stdout",
     "output_type": "stream",
     "text": [
      "Distortion: 174.11\n"
     ]
    }
   ],
   "source": [
    "print('Distortion: %.2f' % km.inertia_)"
   ]
  },
  {
   "cell_type": "markdown",
   "metadata": {},
   "source": [
    "## Using the elbow method to find the optimal number of clusters"
   ]
  },
  {
   "cell_type": "code",
   "execution_count": 9,
   "metadata": {},
   "outputs": [
    {
     "name": "stderr",
     "output_type": "stream",
     "text": [
      "C:\\Users\\asifi\\Anaconda3\\lib\\site-packages\\sklearn\\cluster\\_kmeans.py:881: UserWarning: KMeans is known to have a memory leak on Windows with MKL, when there are less chunks than available threads. You can avoid it by setting the environment variable OMP_NUM_THREADS=1.\n",
      "  warnings.warn(\n"
     ]
    },
    {
     "data": {
      "image/png": "[encoded data removed]",
      "text/plain": [
       "<Figure size 432x288 with 1 Axes>"
      ]
     },
     "metadata": {
      "needs_background": "light"
     },
     "output_type": "display_data"
    }
   ],
   "source": [
    "distortions = []\n",
    "for i in range(1, 8):\n",
    "    km = KMeans(n_clusters=i, \n",
    "                init='k-means++', \n",
    "                n_init=10, \n",
    "                max_iter=300)\n",
    "    km.fit(X)\n",
    "    distortions.append(km.inertia_)\n",
    "plt.plot(range(1, 8), distortions, marker='o')\n",
    "plt.xlabel('Number of clusters')\n",
    "plt.ylabel('Distortion')\n",
    "plt.tight_layout()\n",
    "plt.show()"
   ]
  },
  {
   "cell_type": "markdown",
   "metadata": {},
   "source": [
    "## Quantifying the quality of clustering via silhouette plots"
   ]
  },
  {
   "cell_type": "code",
   "execution_count": 10,
   "metadata": {},
   "outputs": [
    {
     "data": {
      "image/png": "[encoded data removed]",
      "text/plain": [
       "<Figure size 432x288 with 1 Axes>"
      ]
     },
     "metadata": {
      "needs_background": "light"
     },
     "output_type": "display_data"
    }
   ],
   "source": [
    "import numpy as np\n",
    "from matplotlib import cm\n",
    "from sklearn.metrics import silhouette_samples\n",
    "\n",
    "km = KMeans(n_clusters=3, \n",
    "            init='k-means++', \n",
    "            n_init=10, \n",
    "            max_iter=300)\n",
    "y_km = km.fit_predict(X)\n",
    "\n",
    "cluster_labels = np.unique(y_km)\n",
    "n_clusters = cluster_labels.shape[0]\n",
    "silhouette_vals = silhouette_samples(X, y_km, metric='euclidean')\n",
    "y_ax_lower, y_ax_upper = 0, 0\n",
    "yticks = []\n",
    "for i, c in enumerate(cluster_labels):\n",
    "    c_silhouette_vals = silhouette_vals[y_km == c]\n",
    "    c_silhouette_vals.sort()\n",
    "    y_ax_upper += len(c_silhouette_vals)\n",
    "    color = cm.jet(i / n_clusters)\n",
    "    plt.barh(range(y_ax_lower, y_ax_upper), c_silhouette_vals, height=1.0, \n",
    "             edgecolor='none', color=color)\n",
    "\n",
    "    yticks.append((y_ax_lower + y_ax_upper) / 2.)\n",
    "    y_ax_lower += len(c_silhouette_vals)\n",
    "    \n",
    "silhouette_avg = np.mean(silhouette_vals)\n",
    "plt.axvline(silhouette_avg, color=\"red\", linestyle=\"--\") \n",
    "\n",
    "plt.yticks(yticks, cluster_labels + 1)\n",
    "plt.ylabel('Cluster')\n",
    "plt.xlabel('Silhouette coefficient')\n",
    "plt.tight_layout()\n",
    "plt.show()"
   ]
  },
  {
   "cell_type": "code",
   "execution_count": 11,
   "metadata": {},
   "outputs": [
    {
     "name": "stdout",
     "output_type": "stream",
     "text": [
      "Distortion: 262.72\n"
     ]
    }
   ],
   "source": [
    "print('Distortion: %.2f' % km.inertia_)"
   ]
  },
  {
   "cell_type": "code",
   "execution_count": null,
   "metadata": {},
   "outputs": [],
   "source": []
  }
 ],
 "metadata": {
  "anaconda-cloud": {},
  "kernelspec": {
   "display_name": "Python 3",
   "language": "python",
   "name": "python3"
  },
  "language_info": {
   "codemirror_mode": {
    "name": "ipython",
    "version": 3
   },
   "file_extension": ".py",
   "mimetype": "text/x-python",
   "name": "python",
   "nbconvert_exporter": "python",
   "pygments_lexer": "ipython3",
   "version": "3.8.8"
  }
 },
 "nbformat": 4,
 "nbformat_minor": 1
}
